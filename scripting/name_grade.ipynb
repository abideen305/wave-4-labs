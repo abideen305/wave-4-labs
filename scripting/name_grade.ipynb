{
 "cells": [
  {
   "cell_type": "code",
   "execution_count": null,
   "metadata": {},
   "outputs": [],
   "source": [
    "###### Write a script that does the following:\n",
    "\n",
    "#Ask for user input 3 times. Once for a list of names, once for a list of missing assignment counts, and once for a list of grades. Use this input to create lists for names, assignments, and grades.\n",
    "#Use a loop to print the message for each student with the correct values. The potential grade is simply the current grade added to two times the number of missing assignments.\n",
    "#Template code for your script:\n",
    "# names = input(\"Enter names: \") # get and process input for a list of names\n",
    "# assignments = int(input())  # get and process input for a list of the number of assignments\n",
    "# grades = int(input(\"ass\"))  # get and process input for a list of grades\n",
    "\n",
    "# message string to be used for each student\n",
    "# HINT: use .format() with this string in your for loop\n",
    "# message = \"Hi {},\\n\\nThis is a reminder that you have {} assignments left to \\\n",
    "# submit before you can graduate. You're current grade is {} and can increase \\\n",
    "# to {} if you submit all assignments before the due date.\\n\\n\"\n",
    "\n",
    "# print(message)\n",
    "# write a for loop that iterates through each set of names, assignments, and grades to print each student's message\n",
    "\n",
    "\n",
    "for i in range(0, 3):\n",
    "    names = input(\"Enter names: \") # get and process input for a list of names\n",
    "    assignments = int(input())  # get and process input for a list of the number of assignments\n",
    "    grades = int(input(\"ass\"))  # get and process input for a list of grades\n",
    "    increase_grade = grades + (2* assignments)\n",
    "    print( \"Hi {},\\n\\nThis is a reminder that you have {} assignments left to submit before you can graduate. You're current grade is {} and can increase \\\n",
    "to {} if you submit all assignments before the due date.\\n\\n\".format(names, assignments,grades,increase_grade))   \n"
   ]
  }
 ],
 "metadata": {
  "kernelspec": {
   "display_name": "Python 3",
   "language": "python",
   "name": "python3"
  },
  "language_info": {
   "codemirror_mode": {
    "name": "ipython",
    "version": 3
   },
   "file_extension": ".py",
   "mimetype": "text/x-python",
   "name": "python",
   "nbconvert_exporter": "python",
   "pygments_lexer": "ipython3",
   "version": "3.7.4"
  }
 },
 "nbformat": 4,
 "nbformat_minor": 4
}
